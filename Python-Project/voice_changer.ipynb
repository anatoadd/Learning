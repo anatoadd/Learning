{
 "cells": [
  {
   "cell_type": "code",
   "execution_count": 2,
   "metadata": {},
   "outputs": [
    {
     "name": "stdout",
     "output_type": "stream",
     "text": [
      "0\n",
      "215\n",
      "start\n"
     ]
    },
    {
     "ename": "NameError",
     "evalue": "name 'nurmalized_waveform' is not defined",
     "output_type": "error",
     "traceback": [
      "\u001b[1;31m---------------------------------------------------------------------------\u001b[0m",
      "\u001b[1;31mNameError\u001b[0m                                 Traceback (most recent call last)",
      "Cell \u001b[1;32mIn[2], line 67\u001b[0m\n\u001b[0;32m     65\u001b[0m \u001b[38;5;66;03m# 計測条件を設定して録音関数を実行\u001b[39;00m\n\u001b[0;32m     66\u001b[0m duration \u001b[38;5;241m=\u001b[39m \u001b[38;5;241m5\u001b[39m\n\u001b[1;32m---> 67\u001b[0m waveform, sampling_rate \u001b[38;5;241m=\u001b[39m \u001b[43mrecord\u001b[49m\u001b[43m(\u001b[49m\u001b[43mpa\u001b[49m\u001b[43m,\u001b[49m\u001b[43mindex\u001b[49m\u001b[43m,\u001b[49m\u001b[43m \u001b[49m\u001b[43mduration\u001b[49m\u001b[43m)\u001b[49m\n\u001b[0;32m     68\u001b[0m \u001b[38;5;28mprint\u001b[39m(\u001b[38;5;28mlen\u001b[39m(waveform), waveform)\n\u001b[0;32m     70\u001b[0m \u001b[38;5;66;03m# PyAudioを終了\u001b[39;00m\n",
      "Cell \u001b[1;32mIn[2], line 56\u001b[0m, in \u001b[0;36mrecord\u001b[1;34m(pa, index, duration)\u001b[0m\n\u001b[0;32m     53\u001b[0m \u001b[38;5;66;03m# 波形を正規化\u001b[39;00m\n\u001b[0;32m     54\u001b[0m normalized_waveform \u001b[38;5;241m=\u001b[39m byte_to_num \u001b[38;5;241m/\u001b[39m max_value\n\u001b[1;32m---> 56\u001b[0m \u001b[38;5;28;01mreturn\u001b[39;00m \u001b[43mnurmalized_waveform\u001b[49m, sampling_rate\n",
      "\u001b[1;31mNameError\u001b[0m: name 'nurmalized_waveform' is not defined"
     ]
    }
   ],
   "source": [
    "import pyaudio\n",
    "import numpy as np\n",
    "\n",
    "def get_mic_index(pa):\n",
    "    \"\"\"マイクチャンネルを取得する関数\"\"\"\n",
    "    mic_list = []\n",
    "\n",
    "    # マイクチャンネル一覧をリストに追加する\n",
    "    for i in range(pa.get_device_count()):\n",
    "        device_info = pa.get_device_info_by_index(i)\n",
    "        num_of_input_ch = device_info['maxInputChannels']\n",
    "\n",
    "        if num_of_input_ch > 0:\n",
    "            mic_list.append(device_info['index'])\n",
    "    return mic_list[0]\n",
    "\n",
    "def record(pa, index, duration):\n",
    "    \"\"\"PCのマイクで録音する関数\"\"\"\n",
    "\n",
    "    #録音条件\n",
    "    sampling_rate = 44100\n",
    "    frame_size = 1024\n",
    "\n",
    "    # ストリームを開く\n",
    "    stream = pa.open(format=pyaudio.paInt16, channels=1, rate=sampling_rate,\n",
    "                      input=True, input_device_index=index, frames_per_buffer=frame_size)\n",
    "\n",
    "    # ループ数の設定\n",
    "    dt = 1 / sampling_rate\n",
    "    n = int(((duration / dt) / frame_size))\n",
    "    print(n)\n",
    "\n",
    "    # 録音する\n",
    "    waveform = []\n",
    "    print('start')\n",
    "    for i in range(n):\n",
    "        frame = stream.read(frame_size)\n",
    "        waveform.append(frame)\n",
    "\n",
    "    # ストリームの終了\n",
    "    stream.stop_stream()\n",
    "    stream.close()\n",
    "\n",
    "    # データをまとめる\n",
    "    waveform = b\"\".join(waveform)\n",
    "\n",
    "    # バイトデータを数値データに変換\n",
    "    byte_to_num = np.frombuffer(waveform, dtype=\"int16\")\n",
    "\n",
    "    # 最大値を計算\n",
    "    max_value = float((2 ** 16 / 2) - 1)\n",
    "\n",
    "    # 波形を正規化\n",
    "    normalized_waveform = byte_to_num / max_value\n",
    "\n",
    "    return nurmalized_waveform, sampling_rate\n",
    "\n",
    "# pyaudioを準備する\n",
    "pa = pyaudio.PyAudio()\n",
    "\n",
    "# マイクチャンネルを自動取得\n",
    "index = get_mic_index(pa)\n",
    "print(index)\n",
    "\n",
    "# 計測条件を設定して録音関数を実行\n",
    "duration = 5\n",
    "waveform, sampling_rate = record(pa,index, duration)\n",
    "print(len(waveform), waveform)\n",
    "\n",
    "# PyAudioを終了\n",
    "pa.terminate()\n",
    "\n",
    "# マイクチャンネル一覧をリストに追加する\n",
    "\n",
    "\n",
    "print(mic_list)"
   ]
  }
 ],
 "metadata": {
  "kernelspec": {
   "display_name": "Python 3",
   "language": "python",
   "name": "python3"
  },
  "language_info": {
   "codemirror_mode": {
    "name": "ipython",
    "version": 3
   },
   "file_extension": ".py",
   "mimetype": "text/x-python",
   "name": "python",
   "nbconvert_exporter": "python",
   "pygments_lexer": "ipython3",
   "version": "3.13.1"
  }
 },
 "nbformat": 4,
 "nbformat_minor": 2
}
