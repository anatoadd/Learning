{
 "cells": [
  {
   "cell_type": "code",
   "execution_count": null,
   "metadata": {
    "vscode": {
     "languageId": "plaintext"
    }
   },
   "outputs": [],
   "source": [
    "print('1から100までの間で好きな数字を1つ思い浮かべてください')\n",
    "print('あなたの考えている数字を7回以内に当ててみましょう。')\n",
    "\n",
    "# low:最小の数値、high;最大の数値\n",
    "low = 1\n",
    "high = 100\n",
    "print(low, high)\n",
    "\n",
    "for i in range(7):\n",
    "    # lowとhighが同じならループを抜ける\n",
    "    if low == high:\n",
    "        guess = low\n",
    "        break\n",
    "\n",
    "    # コンピューターの推測値を確認\n",
    "    guess = (low + high) // 2\n",
    "    print('あなたの数字は', guess, 'より大きいですか？ (hit/yes/no)')\n",
    "    answer = input().strip().lower()\n",
    "\n",
    "    # ユーザーの答えによる分岐\n",
    "    if answer == \"hit\":\n",
    "        break\n",
    "    elif answer == \"yes\":\n",
    "        low = guess + 1\n",
    "    elif answer == \"no\":\n",
    "        # 数字が一致していた場合にユーザーが\"hit\"を入力する確証があれば[- 1]をつけてもOK\n",
    "        high = guess\n",
    "    else:\n",
    "        print('無効な文字が入力されました。再度入力してください。(hit/yes/no)')\n",
    "        continue\n",
    "\n",
    "print(f'あなたの考えている数字は、{guess} ですね！')\n",
    "     "
   ]
  }
 ],
 "metadata": {
  "language_info": {
   "name": "python"
  }
 },
 "nbformat": 4,
 "nbformat_minor": 2
}
